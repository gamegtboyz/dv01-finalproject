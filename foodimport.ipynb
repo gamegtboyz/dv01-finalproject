{
 "cells": [
  {
   "cell_type": "markdown",
   "id": "2cc7ac5d",
   "metadata": {},
   "source": [
    "# U.S. Food Imports "
   ]
  },
  {
   "cell_type": "markdown",
   "id": "49cac144",
   "metadata": {},
   "source": [
    "disclaimer: This notebook is contribution to final project of Data Visualization studies.\\\n",
    "Summer Semester 2025, University of Europe for Applied Sciences"
   ]
  },
  {
   "cell_type": "markdown",
   "id": "034b4724",
   "metadata": {},
   "source": [
    "## Introduction\n",
    "\n",
    "Source: You could access to the source data [here.](https://www.ers.usda.gov/data-products/us-food-imports)\n",
    "\n",
    "The U.S. Food Imports data product is an annually published statistical summary of the value and volume of food imports coming into the United States.\n",
    "\n",
    "U.S. consumers demand variety, quality, and convenience in the foods they consume. As U.S. consumers have become wealthier and more ethnically diverse, their food basket reflects a growing share of tropical products, spices, and imported gourmet products. Seasonal and climatic factors drive U.S. food imports of popular types of fruits, vegetables—and tropical products, such as cocoa and coffee. In addition, a growing share of U.S. imports can be attributed to intra-industry trade, whereby agricultural-processing industries based in the United States carry out certain processing steps offshore and import products at different levels of processing from their subsidiaries in foreign markets.\n",
    "\n",
    "This data set provides import values of edible products (food and beverages) entering U.S. ports and the products’ origin of shipment. Data are from the U.S. Department of Commerce, Bureau of the Census. Food and beverage import values are compiled by calendar year into food groups, corresponding to major commodities or level of processing. The Harmonized System (HS) codes and the corresponding commodities and food products are detailed in the data product file. At least 20 years of annual data are included, enabling users to track long-term growth patterns.\n",
    "\n",
    "The dataset is suppoed to be updated in annaul basis. The one we used is observation of data from 1999 to 2024 (25 years) historical data."
   ]
  },
  {
   "cell_type": "code",
   "execution_count": null,
   "id": "22c48fab",
   "metadata": {},
   "outputs": [],
   "source": [
    "import pandas as pd\n",
    "import numpy as np"
   ]
  }
 ],
 "metadata": {
  "kernelspec": {
   "display_name": "Python 3",
   "language": "python",
   "name": "python3"
  },
  "language_info": {
   "name": "python",
   "version": "3.13.0"
  }
 },
 "nbformat": 4,
 "nbformat_minor": 5
}
